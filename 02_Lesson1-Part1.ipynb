{
 "cells": [
  {
   "cell_type": "markdown",
   "id": "4af0da6a",
   "metadata": {},
   "source": [
    "# Lesson1-Part1"
   ]
  },
  {
   "cell_type": "markdown",
   "id": "4a751a50",
   "metadata": {},
   "source": [
    "This is Introductory video about this course. We have first look to how to create a classification system with fastai.\n",
    "\n",
    "### Video \n",
    "\n",
    "\n",
    "\n",
    "<iframe width=\"560\" height=\"315\" src=\"https://www.youtube.com/embed/XEr7B_uVNXk\" title=\"YouTube video player\" frameborder=\"0\" allow=\"accelerometer; autoplay; clipboard-write; encrypted-media; gyroscope; picture-in-picture\" allowfullscreen></iframe>\n",
    "\n",
    "\n",
    "###  Highlights\n",
    "\n",
    "Following were the highlight's:\n",
    "\n",
    "1. Remaking Fastai Course Practical Deep Learning 2022 \n",
    "[Original Course]( https://course.fast.ai/ )\n",
    "2. Lesson 1 Smaller Version – This one is Part 1 of lesson\n",
    "3. Link for the notebook (link no. 11) and notes are provided in google drive (link no. 1 in Resource Section also in description)\n",
    "\n",
    "### Resources :\n",
    "\n",
    "1. [Slides and Lecture Notes](https://drive.google.com/drive/folders/15ODbJIV4dGzHLTusXKjoy5mjNJq8FtQo?usp=share_link)\n",
    "2. [Original Video Lesson](https://course.fast.ai/Lessons/lesson1.html)\n",
    "3. [Free Book Version](https://github.com/fastai/fastbook)\n",
    "4. [Amazon Book](https://www.amazon.com/Deep-Learning-Coders-fastai-PyTorch/dp/1492045527)\n",
    "5. [Image Analysis Tool PixSpy](https://pixspy.com/)\n",
    "6. [Dalle Text to Image Generator](https://openai.com/dall-e-2/)\n",
    "7. [Data Ethics Course](https://ethics.fast.ai/)\n",
    "8. [Cups.fast.ai](https://cups.fast.ai/)\n",
    "9. [Fast.ai Course 2017 ](https://course17.fast.ai/)\n",
    "10. [ULMfit Paper With Code](https://paperswithcode.com/method/ulmfit)\n",
    "11. [Python Notebook](https://www.kaggle.com/ahmadhassan061/lesson1)\n",
    "12. [Medium.com Article Blog](https://medium.com/@l154359/introduction-to-fastai-2022-lesson-1-b7e45625f1b)\n",
    "\n",
    "\n",
    "## Acknowledgements\n",
    "\n",
    "Special Thanks to @Jeremy Howard"
   ]
  }
 ],
 "metadata": {
  "kernelspec": {
   "display_name": "Python 3.10.6 64-bit",
   "language": "python",
   "name": "python3"
  },
  "language_info": {
   "name": "python",
   "version": "3.10.6"
  },
  "vscode": {
   "interpreter": {
    "hash": "aee8b7b246df8f9039afb4144a1f6fd8d2ca17a180786b69acc140d282b71a49"
   }
  }
 },
 "nbformat": 4,
 "nbformat_minor": 5
}
