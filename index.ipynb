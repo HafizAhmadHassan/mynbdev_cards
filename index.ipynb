{
 "cells": [
  {
   "cell_type": "markdown",
   "metadata": {},
   "source": [
    "# Deep Learning"
   ]
  },
  {
   "cell_type": "markdown",
   "metadata": {},
   "source": []
  },
  {
   "cell_type": "markdown",
   "metadata": {},
   "source": [
    "A free course of deep learning extended version of [fast.ai](https://course.fast.ai/) \n",
    "\n",
    "<img align = \"left\" src=\"https://raw.githubusercontent.com/HafizAhmadHassan/mynbdev_cards/main/mynbdev_cards/images/img1.png\" alt=\"Teddy bear\" width=\"150\" height=\"150\">\n",
    "\n",
    "<p align = \"right\">\n",
    "  It is designed for anyone who want to get into deep learning.<br> \n",
    "  You can learn from beginning to advance level.<br>\n",
    "  This is extended version contains detailed explanation<br>\n",
    "  of each lesson the original course with addition<br> of notes and more resources.\n",
    "</p>\n",
    "<br>\n",
    "<br>"
   ]
  },
  {
   "cell_type": "markdown",
   "metadata": {},
   "source": []
  },
  {
   "cell_type": "markdown",
   "metadata": {},
   "source": [
    "## Instructor\n",
    "\n",
    "<img align=\"right\" src=\"https://raw.githubusercontent.com/HafizAhmadHassan/mynbdev_cards/main/mynbdev_cards/images/Screenshot 2022-08-17 at 22.31.41.png\"\n",
    "         alt=\"Teddy bear\" width=\"180\" height=\"150\">\n",
    "\n",
    "\n",
    "\n",
    "> Hello, My Name is Hafiz Ahmad Hassan. I am your mentor in the path of deep learning. To summarize I studied Bachelors in Computer Science from [FAST-NUCES](https://nu.edu.pk/) and Masters from [University of Verona](https://www.univr.it/home).\n",
    "\n",
    "> My first [article](https://www.researchgate.net/profile/Hafiz-Hassan-2) on Skin Lesion Classification System during bacelors published on ICGHIT South Korea. I worked as Researcher at [WIESS UCL](https://www.ucl.ac.uk/interventional-surgical-sciences/) in the field of Surgical Data Science. Later I joined [Mig-Mit](https://migrationmiteinander.de/). Currently I am working as Computer Scince Instructor at [H-Farm International School](https://www.h-farm.com/en)\n",
    "\n",
    "> I have an interest in deep learning, Machine Learning espacially its application in field of Medicine.\n"
   ]
  },
  {
   "cell_type": "markdown",
   "metadata": {},
   "source": []
  }
 ],
 "metadata": {
  "kernelspec": {
   "display_name": "Python 3.10.6 64-bit",
   "language": "python",
   "name": "python3"
  },
  "language_info": {
   "name": "python",
   "version": "3.10.6"
  },
  "vscode": {
   "interpreter": {
    "hash": "aee8b7b246df8f9039afb4144a1f6fd8d2ca17a180786b69acc140d282b71a49"
   }
  }
 },
 "nbformat": 4,
 "nbformat_minor": 4
}
