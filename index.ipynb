{
 "cells": [
  {
   "cell_type": "markdown",
   "metadata": {},
   "source": [
    "# Deep Learning (0 to 1)"
   ]
  },
  {
   "cell_type": "markdown",
   "metadata": {},
   "source": [
    "\n",
    "<head>\n",
    "<style>\n",
    ".myDiv2 {\n",
    "  background-color: #E8E8E8;\n",
    "}\n",
    "</style>\n",
    "</head>\n",
    "<body>\n",
    "\n",
    "<div class=\"myDiv2\">\n",
    "<p>A free course of deep learning extended version of <a href=\"https://course.fast.ai/\"> fast.ai </a>\n",
    "</p>\n",
    "<img align = \"left\" src=\"https://raw.githubusercontent.com/HafizAhmadHassan/mynbdev_cards/main/mynbdev_cards/images/img6.png\" alt=\"Teddy bear\" width=\"130\" height=\"130\">\n",
    "\n",
    "<p align = \"right\">\n",
    "  It is designed for anyone who want to get into deep learning.<br> \n",
    "  You can learn from beginning to advance level.<br>\n",
    "  This is extended version contains detailed explanation<br>\n",
    "  of each lesson the original course with addition<br> of notes and more resources.\n",
    "</p>\n",
    "\n",
    "</div>\n",
    "\n",
    "\n",
    "</body>"
   ]
  },
  {
   "cell_type": "markdown",
   "metadata": {},
   "source": [
    "## Instructor"
   ]
  },
  {
   "cell_type": "markdown",
   "metadata": {},
   "source": [
    "\n",
    "<p><img align=\"right\" src=\"https://raw.githubusercontent.com/HafizAhmadHassan/mynbdev_cards/main/mynbdev_cards/images/img44.jpeg\"\n",
    "         alt=\"Teddy bear\" width=\"115\" height=\"145\"></p>\n",
    "<blockquote>\n",
    "<p>Hello, My Name is Hafiz Ahmad Hassan. I am your mentor in the path of deep learning. To summarize I studied Bachelors in Computer Science from <a href=\"https://nu.edu.pk/\">FAST-NUCES</a> and Masters from <a href=\"https://www.univr.it/home\">University of Verona</a>.</p>\n",
    "<p>My first <a href=\"https://www.researchgate.net/profile/Hafiz-Hassan-2\">article</a> on Skin Lesion Classification System during bachelors published on ICGHIT South Korea. I worked as Researcher at <a href=\"https://www.ucl.ac.uk/interventional-surgical-sciences/\">WEISS Surgical Robot Vision Group</a> University College London in the field of Surgical Data Science. Later I joined <a href=\"https://migrationmiteinander.de/\">Mig-Mit</a> NGO in Germany. Currently I am working as Computer Scince Instructor at <a href=\"https://www.h-farm.com/en\">H-Farm International School</a> Italy.</p>\n",
    "<p>I have an interest in deep learning, Machine Learning espacially its application in field of Medicine.</p>\n",
    "</blockquote>\n"
   ]
  },
  {
   "cell_type": "markdown",
   "metadata": {},
   "source": [
    "### Lessons Link"
   ]
  },
  {
   "cell_type": "markdown",
   "metadata": {},
   "source": [
    "\n",
    "<blockquote>\n",
    "\n",
    "<p>Lesson 1 :\n",
    "<a href=\"https://hafizahmadhassan.github.io/mynbdev_cards/lesson1-part1.html\">part1</a>  <a href=\"https://hafizahmadhassan.github.io/mynbdev_cards/lesson1-part2.html\">part2</a>    <a href=\"https://hafizahmadhassan.github.io/mynbdev_cards/lesson1-part3.html\">part3</a>   <a href=\"https://hafizahmadhassan.github.io/mynbdev_cards/lesson1-part4.html\">part4</a>   <a href=\"https://hafizahmadhassan.github.io/mynbdev_cards/lesson1-part5.html\">part5</a></p>\n",
    "<p>Lesson 2 :\n",
    "<a href=\"https://hafizahmadhassan.github.io/mynbdev_cards/lesson2-part1.html\">part1</a> <a href=\"https://hafizahmadhassan.github.io/mynbdev_cards/lesson2-part2.html\">part2</a> <a href=\"https://hafizahmadhassan.github.io/mynbdev_cards/lesson2-part3.html\">part3</a></p>\n",
    "<p>Lesson 3 :\n",
    "<a href=\"https://hafizahmadhassan.github.io/mynbdev_cards/lesson3-part1.html\">part 1 (Uploading Soon)</a></p>\n",
    "</blockquote>\n",
    "\n"
   ]
  },
  {
   "cell_type": "markdown",
   "metadata": {},
   "source": [
    "## Our Collaborators"
   ]
  },
  {
   "cell_type": "markdown",
   "metadata": {},
   "source": [
    "\n",
    "<img align=\"right\" src=\"https://raw.githubusercontent.com/HafizAhmadHassan/mynbdev_cards/main/mynbdev_cards/images/pic-doha.jpg\" alt=\"Teddy bear\" width=\"115\" height=\"125\">\n",
    "\n",
    "> My name is Doha Tarek and I am an Artificial Intelligence student. During my studies, I have taken courses related to AI and completed projects that can be found on my [GitHub](https://www.github.com/doha-tarek).\n",
    "\n",
    "> My passion for the field of AI drives me to continuously increase my knowledge through reading books as well as taking additional courses in Machine Learning, Deep Learning, Mathematics and more.  So I am excited to share with you the knowledge and skills that I have acquired so far. My aim is to provide guidance in a way that will help you reach your goals while also providing resources which may prove useful along the way.\n"
   ]
  },
  {
   "cell_type": "markdown",
   "metadata": {},
   "source": [
    "### Practical Sessions"
   ]
  },
  {
   "cell_type": "markdown",
   "metadata": {},
   "source": [
    "\n",
    "> Lesson 1 :\n",
    "> [part1](https://hafizahmadhassan.github.io/mynbdev_cards/practice-session1.html) [part2](https://hafizahmadhassan.github.io/mynbdev_cards/practice-session2.html)"
   ]
  },
  {
   "cell_type": "markdown",
   "metadata": {},
   "source": [
    "## Our Sponsors"
   ]
  },
  {
   "cell_type": "markdown",
   "metadata": {},
   "source": [
    "\n",
    "[Mig-Mit](https://migrationmiteinander.de/) "
   ]
  },
  {
   "cell_type": "markdown",
   "metadata": {},
   "source": [
    "## Social Media Links"
   ]
  },
  {
   "cell_type": "markdown",
   "metadata": {},
   "source": [
    " \n",
    "\n",
    "<head>\n",
    "<meta name=\"viewport\" content=\"width=device-width, initial-scale=1\">\n",
    "<link rel=\"stylesheet\" href=\"https://cdnjs.cloudflare.com/ajax/libs/font-awesome/4.7.0/css/font-awesome.min.css\">\n",
    "<style>\n",
    ".fa {\n",
    "   padding: 8px;\n",
    "  font-size: 15px;\n",
    "  width: 30px;\n",
    "  text-align: center;\n",
    "  text-decoration: none;\n",
    "  margin: 5px 2px;\n",
    "}\n",
    ".myDiv {\n",
    "  border: 5px outset red;\n",
    "  background-color: lightblue;    \n",
    "  text-align: center;\n",
    "}\n",
    ".fa:hover {\n",
    "    opacity: 0.7;\n",
    "}\n",
    ".fa-facebook {\n",
    "  background: #3B5998;\n",
    "  color: white;\n",
    "}\n",
    ".fa-twitter {\n",
    "  background: #55ACEE;\n",
    "  color: white;\n",
    "}\n",
    ".fa-google {\n",
    "  background: #dd4b39;\n",
    "  color: white;\n",
    "}\n",
    ".fa-linkedin {\n",
    "  background: #007bb5;\n",
    "  color: white;\n",
    "}\n",
    ".fa-youtube {\n",
    "  background: #bb0000;\n",
    "  color: white;\n",
    "}\n",
    ".fa-instagram {\n",
    "  background: #125688;\n",
    "  color: white;\n",
    "}\n",
    ".fa-pinterest {\n",
    "  background: #cb2027;\n",
    "  color: white;\n",
    "}\n",
    ".fa-snapchat-ghost {\n",
    "  background: #fffc00;\n",
    "  color: white;\n",
    "  text-shadow: -1px 0 black, 0 1px black, 1px 0 black, 0 -1px black;\n",
    "}\n",
    ".fa-skype {\n",
    "  background: #00aff0;\n",
    "  color: white;\n",
    "}\n",
    ".fa-android {\n",
    "  background: #a4c639;\n",
    "  color: white;\n",
    "}\n",
    ".fa-dribbble {\n",
    "  background: #ea4c89;\n",
    "  color: white;\n",
    "}\n",
    ".fa-vimeo {\n",
    "  background: #45bbff;\n",
    "  color: white;\n",
    "}\n",
    ".fa-tumblr {\n",
    "  background: #2c4762;\n",
    "  color: white;\n",
    "}\n",
    ".fa-vine {\n",
    "  background: #00b489;\n",
    "  color: white;\n",
    "}\n",
    ".fa-foursquare {\n",
    "  background: #45bbff;\n",
    "  color: white;\n",
    "}\n",
    ".fa-stumbleupon {\n",
    "  background: #eb4924;\n",
    "  color: white;\n",
    "}\n",
    ".fa-flickr {\n",
    "  background: #f40083;\n",
    "  color: white;\n",
    "}\n",
    ".fa-yahoo {\n",
    "  background: #430297;\n",
    "  color: white;\n",
    "}\n",
    ".fa-soundcloud {\n",
    "  background: #ff5500;\n",
    "  color: white;\n",
    "}\n",
    ".fa-reddit {\n",
    "  background: #ff5700;\n",
    "  color: white;\n",
    "}\n",
    ".fa-rss {\n",
    "  background: #ff6600;\n",
    "  color: white;\n",
    "}\n",
    "</style>\n",
    "</head>\n",
    "\n",
    "\n",
    "<body>\n",
    "\n",
    "<div class=\"myDiv\">\n",
    "<!-- Add font awesome icons -->\n",
    "<a href=\"https://twitter.com/AhmadHassanDS\" class=\"fa fa-twitter\"></a>\n",
    "<a href=\"https://www.linkedin.com/in/hafizahmadhassan/\" class=\"fa fa-linkedin\"></a>\n",
    "<a href=\"https://www.youtube.com/channel/UCvPXiMkz0uFDnL0_X0-NtAQ\" class=\"fa fa-youtube\"></a>\n",
    " <a href=\"https://medium.com/@l154359\"> <img src=\"https://miro.medium.com/max/2400/1*6_fgYnisCa9V21mymySIvA.png\" alt=\"Snow\" width=\"24\"></a>\n",
    "<a href=\"https://github.com/HafizAhmadHassan\"><i style=\"font-size:24px\" class=\"fa\">&#xf09b;</i></a>\n",
    "<a href=\"https://www.linkedin.com/in/hafizahmadhassan/\">\n",
    "<i style=\"font-size:24px\" class=\"fa\">&#xf08c;</i></a>\n",
    "<a href=\"mailto:ahmadhassan061@gmail.com\"><img src=\"https://cdn.pixabay.com/photo/2016/01/26/17/15/gmail-1162901__340.png\" alt=\"Snow\" width=\"24\"></a>\n",
    "</div>\n",
    "</body>\n",
    "\n",
    "\n",
    "\n"
   ]
  },
  {
   "cell_type": "markdown",
   "metadata": {},
   "source": []
  }
 ],
 "metadata": {
  "kernelspec": {
   "display_name": "Python 3.10.6 64-bit",
   "language": "python",
   "name": "python3"
  },
  "language_info": {
   "name": "python",
   "version": "3.10.6"
  },
  "vscode": {
   "interpreter": {
    "hash": "aee8b7b246df8f9039afb4144a1f6fd8d2ca17a180786b69acc140d282b71a49"
   }
  }
 },
 "nbformat": 4,
 "nbformat_minor": 4
}
