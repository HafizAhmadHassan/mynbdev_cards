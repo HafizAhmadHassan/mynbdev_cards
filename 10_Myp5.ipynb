{
 "cells": [
  {
   "cell_type": "markdown",
   "metadata": {},
   "source": [
    "# H-Farm Myp5\n",
    "\n",
    "> Here is link for the website contains course outline and schedule of the term\n",
    "\n",
    "## Course Outline and Scedule\n",
    "<iframe src=\"https://docs.google.com/document/d/e/2PACX-1vRq4WChs8W8VEybg5Nuso-rbQhIpiPQWbUO4XWTIlaenNuLbabfveYFy-QzeXssDg/pub?embedded=true\"></iframe>\n",
    "    </iframe>"
   ]
  },
  {
   "cell_type": "markdown",
   "metadata": {},
   "source": []
  }
 ],
 "metadata": {
  "kernelspec": {
   "display_name": "Python 3.10.6 64-bit",
   "language": "python",
   "name": "python3"
  },
  "language_info": {
   "codemirror_mode": {
    "name": "ipython",
    "version": 3
   },
   "file_extension": ".py",
   "mimetype": "text/x-python",
   "name": "python",
   "nbconvert_exporter": "python",
   "pygments_lexer": "ipython3",
   "version": "3.10.6"
  },
  "vscode": {
   "interpreter": {
    "hash": "aee8b7b246df8f9039afb4144a1f6fd8d2ca17a180786b69acc140d282b71a49"
   }
  }
 },
 "nbformat": 4,
 "nbformat_minor": 4
}
