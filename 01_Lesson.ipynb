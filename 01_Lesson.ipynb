{
 "cells": [
  {
   "cell_type": "code",
   "execution_count": null,
   "id": "340f148c",
   "metadata": {},
   "outputs": [],
   "source": [
    "#| default_exp deck"
   ]
  },
  {
   "cell_type": "markdown",
   "id": "4af0da6a",
   "metadata": {},
   "source": [
    "# Lessons\n",
    "\n"
   ]
  },
  {
   "cell_type": "code",
   "execution_count": null,
   "id": "9b38319f",
   "metadata": {},
   "outputs": [],
   "source": [
    "#|hide\n",
    "from nbdev.showdoc import *\n",
    "from mynbdev_cards.card import *"
   ]
  },
  {
   "cell_type": "code",
   "execution_count": null,
   "id": "df6415d3",
   "metadata": {},
   "outputs": [
    {
     "data": {
      "text/plain": [
       "♦️ 3"
      ]
     },
     "execution_count": null,
     "metadata": {},
     "output_type": "execute_result"
    }
   ],
   "source": [
    "Card(1,3)"
   ]
  },
  {
   "cell_type": "code",
   "execution_count": null,
   "id": "af9fcf53",
   "metadata": {},
   "outputs": [],
   "source": [
    "#| export\n",
    "class Deck:\n",
    "    def __init__(self):self.cards = [Card(s,r) for s in range(4) for r in range(1,14)]\n",
    "    def __str__(self): return '; '.join(map(str,self.cards))\n",
    "    def __len__(self): return len(self.cards)\n",
    "    def __contains__(self,card): return card in self.cards\n",
    "    \n",
    "    __repr__=__str__"
   ]
  },
  {
   "cell_type": "code",
   "execution_count": null,
   "id": "b41c2783",
   "metadata": {},
   "outputs": [
    {
     "data": {
      "text/plain": [
       "♣️ A; ♣️ 2; ♣️ 3; ♣️ 4; ♣️ 5; ♣️ 6; ♣️ 7; ♣️ 8; ♣️ 9; ♣️ 10; ♣️ J; ♣️ Q; ♣️ K; ♦️ A; ♦️ 2; ♦️ 3; ♦️ 4; ♦️ 5; ♦️ 6; ♦️ 7; ♦️ 8; ♦️ 9; ♦️ 10; ♦️ J; ♦️ Q; ♦️ K; ❤️ A; ❤️ 2; ❤️ 3; ❤️ 4; ❤️ 5; ❤️ 6; ❤️ 7; ❤️ 8; ❤️ 9; ❤️ 10; ❤️ J; ❤️ Q; ❤️ K; ♠️ A; ♠️ 2; ♠️ 3; ♠️ 4; ♠️ 5; ♠️ 6; ♠️ 7; ♠️ 8; ♠️ 9; ♠️ 10; ♠️ J; ♠️ Q; ♠️ K"
      ]
     },
     "execution_count": null,
     "metadata": {},
     "output_type": "execute_result"
    }
   ],
   "source": [
    "deck=Deck()\n",
    "deck"
   ]
  },
  {
   "cell_type": "code",
   "execution_count": null,
   "id": "425a171b",
   "metadata": {},
   "outputs": [],
   "source": [
    "test_eq(len(deck),52)"
   ]
  },
  {
   "cell_type": "code",
   "execution_count": null,
   "id": "05dfa5d5",
   "metadata": {},
   "outputs": [
    {
     "data": {
      "text/plain": [
       "True"
      ]
     },
     "execution_count": null,
     "metadata": {},
     "output_type": "execute_result"
    }
   ],
   "source": [
    "Card(2,1) in deck"
   ]
  },
  {
   "cell_type": "code",
   "execution_count": null,
   "id": "102e4965",
   "metadata": {},
   "outputs": [],
   "source": [
    "#| export\n",
    "@patch\n",
    "def pop(self:Deck,idx:int=-1):\n",
    "    return self.cards.pop(idx)\n",
    "    "
   ]
  },
  {
   "cell_type": "markdown",
   "id": "d035256c",
   "metadata": {},
   "source": [
    "There are 51 cards left in the deck"
   ]
  },
  {
   "cell_type": "code",
   "execution_count": null,
   "id": "f6490de1",
   "metadata": {},
   "outputs": [],
   "source": [
    "test_eq(deck.pop(),Card(3,13))"
   ]
  },
  {
   "cell_type": "code",
   "execution_count": null,
   "id": "fa5f1779",
   "metadata": {},
   "outputs": [
    {
     "data": {
      "text/plain": [
       "♣️ A; ♣️ 2; ♣️ 3; ♣️ 4; ♣️ 5; ♣️ 6; ♣️ 7; ♣️ 8; ♣️ 9; ♣️ 10; ♣️ J; ♣️ Q; ♣️ K; ♦️ A; ♦️ 2; ♦️ 3; ♦️ 4; ♦️ 5; ♦️ 6; ♦️ 7; ♦️ 8; ♦️ 9; ♦️ 10; ♦️ J; ♦️ Q; ♦️ K; ❤️ A; ❤️ 2; ❤️ 3; ❤️ 4; ❤️ 5; ❤️ 6; ❤️ 7; ❤️ 8; ❤️ 9; ❤️ 10; ❤️ J; ❤️ Q; ❤️ K; ♠️ A; ♠️ 2; ♠️ 3; ♠️ 4; ♠️ 5; ♠️ 6; ♠️ 7; ♠️ 8; ♠️ 9; ♠️ 10; ♠️ J; ♠️ Q"
      ]
     },
     "execution_count": null,
     "metadata": {},
     "output_type": "execute_result"
    }
   ],
   "source": [
    "deck"
   ]
  },
  {
   "cell_type": "markdown",
   "id": "3eff739d",
   "metadata": {},
   "source": [
    "# Remove"
   ]
  },
  {
   "cell_type": "code",
   "execution_count": null,
   "id": "5fa57520",
   "metadata": {},
   "outputs": [],
   "source": [
    "#| export\n",
    "@patch\n",
    "def remove(self:Deck,\n",
    "           card:Card):\n",
    "    \"Removes `card` from`deck or raises the exception if not there\"\n",
    "    self.cards.remove(card)"
   ]
  },
  {
   "cell_type": "code",
   "execution_count": null,
   "id": "1c1cf4c4",
   "metadata": {},
   "outputs": [],
   "source": [
    "card21=Card(2,1)"
   ]
  },
  {
   "cell_type": "code",
   "execution_count": null,
   "id": "3b6a04af",
   "metadata": {},
   "outputs": [
    {
     "data": {
      "text/plain": [
       "❤️ A"
      ]
     },
     "execution_count": null,
     "metadata": {},
     "output_type": "execute_result"
    }
   ],
   "source": [
    "card21"
   ]
  },
  {
   "cell_type": "code",
   "execution_count": null,
   "id": "85eba684",
   "metadata": {},
   "outputs": [],
   "source": [
    "deck.remove(card21)"
   ]
  },
  {
   "cell_type": "code",
   "execution_count": null,
   "id": "ae7df0aa",
   "metadata": {},
   "outputs": [
    {
     "data": {
      "text/plain": [
       "♣️ A; ♣️ 2; ♣️ 3; ♣️ 4; ♣️ 5; ♣️ 6; ♣️ 7; ♣️ 8; ♣️ 9; ♣️ 10; ♣️ J; ♣️ Q; ♣️ K; ♦️ A; ♦️ 2; ♦️ 3; ♦️ 4; ♦️ 5; ♦️ 6; ♦️ 7; ♦️ 8; ♦️ 9; ♦️ 10; ♦️ J; ♦️ Q; ♦️ K; ❤️ 2; ❤️ 3; ❤️ 4; ❤️ 5; ❤️ 6; ❤️ 7; ❤️ 8; ❤️ 9; ❤️ 10; ❤️ J; ❤️ Q; ❤️ K; ♠️ A; ♠️ 2; ♠️ 3; ♠️ 4; ♠️ 5; ♠️ 6; ♠️ 7; ♠️ 8; ♠️ 9; ♠️ 10; ♠️ J; ♠️ Q"
      ]
     },
     "execution_count": null,
     "metadata": {},
     "output_type": "execute_result"
    }
   ],
   "source": [
    "deck"
   ]
  },
  {
   "cell_type": "code",
   "execution_count": null,
   "id": "6ef77098",
   "metadata": {},
   "outputs": [],
   "source": []
  }
 ],
 "metadata": {
  "kernelspec": {
   "display_name": "Python 3.10.6 64-bit",
   "language": "python",
   "name": "python3"
  },
  "language_info": {
   "name": "python",
   "version": "3.10.6"
  },
  "vscode": {
   "interpreter": {
    "hash": "aee8b7b246df8f9039afb4144a1f6fd8d2ca17a180786b69acc140d282b71a49"
   }
  }
 },
 "nbformat": 4,
 "nbformat_minor": 5
}
