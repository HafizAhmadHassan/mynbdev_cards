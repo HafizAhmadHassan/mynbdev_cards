{
 "cells": [
  {
   "cell_type": "markdown",
   "id": "4af0da6a",
   "metadata": {},
   "source": [
    "# Lesson"
   ]
  },
  {
   "cell_type": "markdown",
   "id": "9b2b20ba",
   "metadata": {},
   "source": []
  },
  {
   "cell_type": "markdown",
   "id": "4a751a50",
   "metadata": {},
   "source": [
    "This is Introductory video about this course. We have first look to how to create a classification system with fastai.\n",
    "\n",
    "https://www.youtube.com/watch?v=XEr7B_uVNXk&t=200s\n",
    "\n",
    "Following were the highlight's:\n",
    "\n",
    "1. Remaking Fastai Course Practical Deep Learning 2022 \n",
    "( https://course.fast.ai/ )\n",
    "2. Lesson 1 Smaller Version – This one is Part 1 of lesson\n",
    "3. Link for the notebook (link no. 11) and notes are provided in google drive (link no. 1 in Resource Section also in description)\n",
    "\n",
    "Resources :\n",
    "\n",
    "Special Thanks to @Jeremy Howard"
   ]
  },
  {
   "cell_type": "markdown",
   "id": "9cfe0325",
   "metadata": {},
   "source": []
  }
 ],
 "metadata": {
  "kernelspec": {
   "display_name": "Python 3.10.6 64-bit",
   "language": "python",
   "name": "python3"
  },
  "language_info": {
   "name": "python",
   "version": "3.10.6"
  },
  "vscode": {
   "interpreter": {
    "hash": "aee8b7b246df8f9039afb4144a1f6fd8d2ca17a180786b69acc140d282b71a49"
   }
  }
 },
 "nbformat": 4,
 "nbformat_minor": 5
}
