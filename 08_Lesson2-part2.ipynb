{
 "cells": [
  {
   "cell_type": "markdown",
   "id": "4af0da6a",
   "metadata": {},
   "source": [
    "# Lesson2-Part2"
   ]
  },
  {
   "cell_type": "markdown",
   "id": "4a751a50",
   "metadata": {},
   "source": [
    "This is about Deployment.\n",
    "\n",
    "### Video \n",
    "\n",
    "Uploading Soon!\n",
    "\n",
    "\n",
    "### Objectives\n",
    "\n",
    "1. Pet Breed Classification\n",
    "2. Data Analysis:  Cleaning Images\n",
    "3. Deep Learning in Production: Gradio & Hugging Face\n",
    "4. Usage of Github\n",
    "5. Linux Terminal With Windows\n",
    "6. Deployment of Model With Kaggle and Collab\n",
    "7. Usage of Pre-Trained Model\n",
    "\n",
    "\n",
    "###  Highlights\n",
    "\n",
    "Following were the highlight's:\n",
    "\n",
    "1. Remaking Fastai Course Practical Deep Learning 2022 [Original Course](https://course.fast.ai/)\n",
    "2. Lesson 2 Smaller Version – This one is Part 2 of lesson\n",
    "3. Notes are provided in google drive (link no. 1 in Resource Section also in description of Video)\n",
    "\n",
    "\n",
    "\n",
    "### Resources :\n",
    "\n",
    "\n",
    "1. [Slides and Lecture Notes](https://drive.google.com/drive/folders/1u_CI-SznnCLlhNjCIiyE3qdQJvpKs14s?usp=share_link)\n",
    "2. [Original Lesson](https://course.fast.ai/Lessons/lesson2.html)\n",
    "3. [Amazon Book](https://www.amazon.com/Deep-Learning-Coders-fastai-PyTorch/dp/1492045527)\n",
    "4. [Free Book Version](https://github.com/fastai/fastbook)\n",
    "5. [Collab Setup](https://course20.fast.ai/start_colab)\n",
    "6. [Share Your Work](https://forums.fast.ai/t/share-your-work-here/96015)\n",
    "7. [Confusion Matrix : Pet Breed Classification](https://walkwithfastai.com/Pets) \n",
    "8. [Chapter 2: Production](https://github.com/fastai/fastbook/blob/master/02_production.ipynb)\n",
    "9. [Tanishq Blog: HuggingFace and Gradio](https://tmabraham.github.io/blog/gradio_hf_spaces_tutorial)\n",
    "10. [HuggingFace Spaces](https://huggingface.co/spaces)\n",
    "11. [Github Desktop](https://desktop.github.com/)\n",
    "12. [MicrosoftApp Terminal](https://apps.microsoft.com/store/detail/windows-terminal/9N0DX20HK701?hl=it-it&gl=it)\n",
    "13. [Terminal Installation Command : WSL](https://learn.microsoft.com/en-us/windows/wsl/install)\n",
    "14. [HuggingFace App by Jeremy](https://huggingface.co/spaces/jph00/minima)\n",
    "15. [Forums Lesson2 Official Topic](https://forums.fast.ai/t/lesson-2-official-topic/96033)\n",
    "16. [Kaggle Forums Lesson2 Link](https://www.kaggle.com/code/jhoward/saving-a-basic-fastai-model/notebook)\n",
    "17. [Colab Forums Lesson2 Link](https://colab.research.google.com/drive/1M-mzhZdFQ2XWBSbLCuKzrmLsm0aLEYxQ?usp=sharing)\n",
    "18. [Documentation Fastai](https://docs.fast.ai/)\n",
    "\n",
    "\n",
    "\n",
    "\n",
    "Special Thanks to @Jeremy Howard"
   ]
  }
 ],
 "metadata": {
  "kernelspec": {
   "display_name": "Python 3.10.6 64-bit",
   "language": "python",
   "name": "python3"
  },
  "language_info": {
   "name": "python",
   "version": "3.10.6"
  },
  "vscode": {
   "interpreter": {
    "hash": "aee8b7b246df8f9039afb4144a1f6fd8d2ca17a180786b69acc140d282b71a49"
   }
  }
 },
 "nbformat": 4,
 "nbformat_minor": 5
}
