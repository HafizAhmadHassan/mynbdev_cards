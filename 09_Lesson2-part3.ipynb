{
 "cells": [
  {
   "cell_type": "markdown",
   "id": "4af0da6a",
   "metadata": {},
   "source": [
    "# Lesson2-Part3"
   ]
  },
  {
   "cell_type": "markdown",
   "id": "4a751a50",
   "metadata": {},
   "source": [
    "Coming Soon!"
   ]
  },
  {
   "cell_type": "markdown",
   "id": "e0d6c188",
   "metadata": {},
   "source": []
  }
 ],
 "metadata": {
  "kernelspec": {
   "display_name": "Python 3.10.6 64-bit",
   "language": "python",
   "name": "python3"
  },
  "language_info": {
   "name": "python",
   "version": "3.10.6"
  },
  "vscode": {
   "interpreter": {
    "hash": "aee8b7b246df8f9039afb4144a1f6fd8d2ca17a180786b69acc140d282b71a49"
   }
  }
 },
 "nbformat": 4,
 "nbformat_minor": 5
}
