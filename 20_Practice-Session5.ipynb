{
 "cells": [
  {
   "attachments": {},
   "cell_type": "markdown",
   "id": "4af0da6a",
   "metadata": {},
   "source": [
    "# Practice Session 5"
   ]
  },
  {
   "attachments": {},
   "cell_type": "markdown",
   "id": "4a751a50",
   "metadata": {},
   "source": [
    "> In this video, I have explained multi label classification and how to make our model recognizing unknown images with the fastai library.\n",
    "\n",
    "\n",
    "\n",
    "## Video\n",
    " \n",
    "<iframe width=\"560\" height=\"315\" src=\"https://www.youtube.com/embed/zBCU94Q5pWk\" title=\"YouTube video player\" frameborder=\"0\" allow=\"accelerometer; autoplay; clipboard-write; encrypted-media; gyroscope; picture-in-picture; web-share\" allowfullscreen></iframe>\n",
    "\n",
    "\n",
    "## Objectives:\n",
    "1.  Multi-Label Classification\n",
    "2. Recognizing Unknown Images\n",
    "\n",
    "## Highlights:\n",
    "1. Remaking walkwithfasta course ( https://walkwithfastai.com/ )\n",
    "2. Lesson Three - Part 1: Multi-label Classification & Unknown Label\n",
    "\n",
    "\n",
    "## Resources (Slides and Notes):\n",
    "1. https://docs.google.com/presentation/d/1yDgScGDOVwpYqe7vr-m4rBLzWg5EZsiG/edit?usp=share_link&ouid=103648487104315358790&rtpof=true&sd=true \n",
    "\n",
    "2. https://drive.google.com/file/d/1qUtP4S-E_IYl3S6k1AqBS2H7XsbnxbGL/view?usp=share_link\n",
    "\n",
    "\n",
    "\n"
   ]
  },
  {
   "cell_type": "markdown",
   "id": "082d7bcd",
   "metadata": {},
   "source": []
  }
 ],
 "metadata": {
  "kernelspec": {
   "display_name": "Python 3.10.6 64-bit",
   "language": "python",
   "name": "python3"
  },
  "language_info": {
   "name": "python",
   "version": "3.11.3"
  },
  "vscode": {
   "interpreter": {
    "hash": "aee8b7b246df8f9039afb4144a1f6fd8d2ca17a180786b69acc140d282b71a49"
   }
  }
 },
 "nbformat": 4,
 "nbformat_minor": 5
}
