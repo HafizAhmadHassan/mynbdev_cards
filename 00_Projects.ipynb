{
 "cells": [
  {
   "cell_type": "code",
   "execution_count": null,
   "metadata": {},
   "outputs": [],
   "source": [
    "#| default_exp card"
   ]
  },
  {
   "cell_type": "markdown",
   "metadata": {},
   "source": [
    "# H-Farm Myp1\n",
    "\n",
    "> Here is link for the website contains course outline and schedule of the term\n",
    "\n",
    "\n",
    "<!DOCTYPE html>\n",
    "<html>\n",
    "  <head>\n",
    "    <title>Title of the document</title>\n",
    "  </head>\n",
    "  <body>\n",
    "    <h1>How to disable downloading of the PDF document</h1>\n",
    "    <iframe src=\"https://docs.google.com/document/d/1sCh19paeJveEbKe278Mm6qhIp-TZxceM/edit?usp=sharing&ouid=102900640274018395449&rtpof=true&sd=true\" width=\"100%\" height=\"500px\">\n",
    "    </iframe>\n",
    "  </body>\n",
    "</html>"
   ]
  },
  {
   "cell_type": "markdown",
   "metadata": {},
   "source": [
    "<!DOCTYPE html>\n",
    "<html>\n",
    "<head>\n",
    "<style>\n",
    "table {\n",
    "  font-family: arial, sans-serif;\n",
    "  border-collapse: collapse;\n",
    "  width: 100%;\n",
    "}\n",
    "\n",
    "td, th {\n",
    "  border: 1px solid #dddddd;\n",
    "  text-align: left;\n",
    "  padding: 8px;\n",
    "}\n",
    "\n",
    "tr:nth-child(even) {\n",
    "  background-color: #dddddd;\n",
    "}\n",
    "</style>\n",
    "</head>\n",
    "<body>\n",
    "\n",
    "<h2>Schedule</h2>\n",
    "\n",
    "<table>\n",
    "  <tr>\n",
    "    <th>Day</th>\n",
    "    <th>Topic</th>\n",
    "    <th>Resources</th>\n",
    "    <th>Assignments</th>\n",
    "    <th>Comments</th>\n",
    "\n",
    "\n",
    "  </tr>\n",
    "  <tr>\n",
    "    <td>...</td>\n",
    "    <td>...</td>\n",
    "    <td>...</td>\n",
    "    <td>...</td>\n",
    "    <td>...</td>\n",
    "\n",
    "  </tr>\n",
    "  <tr>\n",
    "    <td>...</td>\n",
    "    <td>...</td>\n",
    "    <td>...</td>\n",
    "    <td>...</td>\n",
    "    <td>...</td>\n",
    "\n",
    "</tr>\n",
    "\n",
    " \n",
    "\n",
    "</table>\n",
    "\n",
    "</body>\n",
    "</html>\n",
    "\n"
   ]
  }
 ],
 "metadata": {
  "kernelspec": {
   "display_name": "Python 3.10.6 64-bit",
   "language": "python",
   "name": "python3"
  },
  "language_info": {
   "codemirror_mode": {
    "name": "ipython",
    "version": 3
   },
   "file_extension": ".py",
   "mimetype": "text/x-python",
   "name": "python",
   "nbconvert_exporter": "python",
   "pygments_lexer": "ipython3",
   "version": "3.10.6"
  },
  "vscode": {
   "interpreter": {
    "hash": "aee8b7b246df8f9039afb4144a1f6fd8d2ca17a180786b69acc140d282b71a49"
   }
  }
 },
 "nbformat": 4,
 "nbformat_minor": 4
}
