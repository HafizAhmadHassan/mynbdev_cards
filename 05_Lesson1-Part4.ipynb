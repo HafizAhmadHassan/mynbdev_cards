{
 "cells": [
  {
   "cell_type": "markdown",
   "id": "4af0da6a",
   "metadata": {},
   "source": [
    "# Lesson1-Part4"
   ]
  },
  {
   "cell_type": "markdown",
   "id": "4a751a50",
   "metadata": {},
   "source": [
    "This is Introductory video about this course. We have first look to how to create a classification system with fastai.\n",
    "\n",
    "### Video \n",
    "\n",
    "\n",
    "\n",
    "<iframe width=\"560\" height=\"315\" src=\"https://www.youtube.com/embed/TC-LweaH2ZQ\" title=\"YouTube video player\" frameborder=\"0\" allow=\"accelerometer; autoplay; clipboard-write; encrypted-media; gyroscope; picture-in-picture\" allowfullscreen></iframe>\n",
    "\n",
    "### Objectives\n",
    "\n",
    "1. Quick Review of Classification Model\n",
    "2. General View of of Code and Components\n",
    "3. Resources How to Modify code\n",
    "4. Segmentation Model\n",
    "\n",
    "###  Highlights\n",
    "\n",
    "Following were the highlight's:\n",
    "\n",
    "1. Remaking Fastai Course Practical Deep Learning 2022 \n",
    "( https://course.fast.ai/ )\n",
    "2. Lesson 1 Smaller Version – This one is Part 4 of lesson\n",
    "3. Link for the notebooks (link no. 13,14) and notes are provided in google drive (link no. 1 in Resource Section also in description)\n",
    "Also have a look to link (7,8)\n",
    "\n",
    "### Resources :\n",
    "\n",
    "1. https://drive.google.com/drive/folders/15ODbJIV4dGzHLTusXKjoy5mjNJq8FtQo?usp=share_link\n",
    "2. https://course.fast.ai/Lessons/lesson1.html\n",
    "3. https://github.com/fastai/fastbook\n",
    "4. https://www.amazon.com/Deep-Learning-Coders-fastai-PyTorch/dp/1492045527\n",
    "5. https://pixspy.com/\n",
    "6. https://openai.com/dall-e-2/\n",
    "7. https://timm.fast.ai/ \n",
    "8. https://docs.fast.ai/ \n",
    "9. https://course17.fast.ai/ \n",
    "10. https://paperswithcode.com/method/ulmfit\n",
    "11. https://www.kaggle.com/ahmadhassan061/lesson1\n",
    "12. https://medium.com/@l154359/introduction-to-fastai-2022-lesson-1-b7e45625f1b\n",
    "13. https://www.kaggle.com/jhoward/notebooks\n",
    "14. https://www.kaggle.com/code/jhoward/is-it-a-bird-creating-a-model-from-your-own-data \n",
    "\n",
    "\n",
    "Special Thanks to @Jeremy Howard"
   ]
  },
  {
   "cell_type": "markdown",
   "id": "9cfe0325",
   "metadata": {},
   "source": []
  }
 ],
 "metadata": {
  "kernelspec": {
   "display_name": "Python 3.10.6 64-bit",
   "language": "python",
   "name": "python3"
  },
  "language_info": {
   "name": "python",
   "version": "3.10.6"
  },
  "vscode": {
   "interpreter": {
    "hash": "aee8b7b246df8f9039afb4144a1f6fd8d2ca17a180786b69acc140d282b71a49"
   }
  }
 },
 "nbformat": 4,
 "nbformat_minor": 5
}
