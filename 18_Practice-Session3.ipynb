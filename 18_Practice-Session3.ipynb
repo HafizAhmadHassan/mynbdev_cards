{
 "cells": [
  {
   "cell_type": "markdown",
   "id": "4af0da6a",
   "metadata": {},
   "source": [
    "# Practice Session 3"
   ]
  },
  {
   "cell_type": "markdown",
   "id": "4a751a50",
   "metadata": {},
   "source": [
    "In this video, I explain image classification from scratch and show how to build a custom model with PyTorch code. Then, I demonstrate how to simplify the model by using the fastai library. Finally, I introduce the ResNet architecture and rebuild our model with it. This process gives us insight into building models for image classification tasks from start to finish while exploring different architectures along the way.\n",
    "\n",
    "### Video \n",
    "\n",
    "<iframe width=\"560\" height=\"315\" src=\"https://www.youtube.com/embed/Ih1NlOd3ZqQ\" title=\"YouTube video player\" frameborder=\"0\" allow=\"accelerometer; autoplay; clipboard-write; encrypted-media; gyroscope; picture-in-picture; web-share\" allowfullscreen></iframe>\n",
    "\n",
    "\n",
    "### Objectives\n",
    "\n",
    "1. Working with lower-level API\n",
    "2. Making a model by using pure PyTorch code\n",
    "3. Simplify our model by using fastai \n",
    "4. Introduce ResNet architecture \n",
    "\n",
    "\n",
    "\n",
    "###  Highlights\n",
    "\n",
    "Following were the highlight's:\n",
    "\n",
    "1. Remaking walkwithfasta course ( https://walkwithfastai.com/ )\n",
    "2. Lesson Two – Part-1: Image classification from scratch \n",
    "\n",
    "\n",
    "\n",
    "\n",
    "\n",
    "### Resources :\n",
    "\n",
    "\n",
    "1. [Slides](https://drive.google.com/drive/folders/1Bxg9taWXqJGhAo1QkShMtGFfvyEca4v9) [Notes](https://drive.google.com/file/d/1Mh1Vr-3A5afhFtcoIwVNOQnLuGS4NGgw/view?usp=share_link)\n",
    "2. [Original Lesson](https://walkwithfastai.com/Introduction)\n",
    "3. [MNIST Python Notebook](https://github.com/muellerzr/Practical-Deep-Learning-for-Coders-2.0/blob/master/Computer%20Vision/02_MNIST.ipynb)\n",
    "4. [Free Book Version](https://github.com/fastai/fastbook)\n",
    "\n",
    "\n",
    "\n",
    "## Acknowledgements\n",
    "\n",
    "Special Thanks to @Jeremy Howard"
   ]
  },
  {
   "cell_type": "markdown",
   "id": "082d7bcd",
   "metadata": {},
   "source": []
  }
 ],
 "metadata": {
  "kernelspec": {
   "display_name": "Python 3.10.6 64-bit",
   "language": "python",
   "name": "python3"
  },
  "language_info": {
   "name": "python",
   "version": "3.10.6"
  },
  "vscode": {
   "interpreter": {
    "hash": "aee8b7b246df8f9039afb4144a1f6fd8d2ca17a180786b69acc140d282b71a49"
   }
  }
 },
 "nbformat": 4,
 "nbformat_minor": 5
}
